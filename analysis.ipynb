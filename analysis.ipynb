{
 "cells": [
  {
   "cell_type": "code",
   "execution_count": 1,
   "id": "bb443ccd",
   "metadata": {},
   "outputs": [],
   "source": [
    "import pandas as pd\n",
    "import matplotlib.pyplot as plt"
   ]
  },
  {
   "cell_type": "code",
   "execution_count": 2,
   "id": "90c22d05",
   "metadata": {},
   "outputs": [],
   "source": [
    "files = [\n",
    "    \"data/cotacoes_altas.txt\",\n",
    "    \"data/cotacoes_baixas.txt\"\n",
    "]\n",
    "\n",
    "cols = [\"Ticker\", \"Nome\", \"Preco\", \"Var_dia\", \"Var_12m\", \"Setor\"]\n",
    "dfs = []\n",
    "\n",
    "for path in files:\n",
    "    df_temp = pd.read_csv(path, header=None, names=cols)\n",
    "    dfs.append(df_temp)"
   ]
  },
  {
   "cell_type": "code",
   "execution_count": null,
   "id": "dd152ba9",
   "metadata": {},
   "outputs": [],
   "source": [
    "df = pd.concat(dfs, ignore_index=True)\n",
    "\n",
    "df[\"Preco\"]   = pd.to_numeric(df[\"Preco\"],   errors=\"coerce\")\n",
    "df[\"Var_dia\"] = pd.to_numeric(df[\"Var_dia\"], errors=\"coerce\")\n",
    "df[\"Var_12m\"] = pd.to_numeric(df[\"Var_12m\"], errors=\"coerce\")\n",
    "\n",
    "df.head()\n"
   ]
  }
 ],
 "metadata": {
  "kernelspec": {
   "display_name": "venv",
   "language": "python",
   "name": "python3"
  },
  "language_info": {
   "codemirror_mode": {
    "name": "ipython",
    "version": 3
   },
   "file_extension": ".py",
   "mimetype": "text/x-python",
   "name": "python",
   "nbconvert_exporter": "python",
   "pygments_lexer": "ipython3",
   "version": "3.11.6"
  }
 },
 "nbformat": 4,
 "nbformat_minor": 5
}
